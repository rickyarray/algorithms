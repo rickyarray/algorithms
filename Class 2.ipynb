{
 "cells": [
  {
   "cell_type": "code",
   "execution_count": 1,
   "id": "af0da295-715c-441b-b856-105c478c2ad7",
   "metadata": {},
   "outputs": [],
   "source": [
    "# Simolified implementation of Stacks (using built-in data structures)\n",
    "\n",
    "class Stack:\n",
    "    def __init__(self):\n",
    "        # Our stack class internally relies on the built-in data structure \"list\".\n",
    "        self.items = []\n",
    "\n",
    "    def push(self, value):\n",
    "        self.items.append(value)\n",
    "\n",
    "    def pop(self):\n",
    "        return self.items.pop()\n",
    "\n",
    "    #nice to have methods\n",
    "    def peek(self):\n",
    "        return self.items[len(self.items)-1]\n",
    "\n",
    "    def size(self):\n",
    "        return len(self.items)\n",
    "\n",
    "    def is_empty(self):\n",
    "        return self.items == []\n",
    "        "
   ]
  },
  {
   "cell_type": "code",
   "execution_count": 2,
   "id": "2b1f1985-d92b-4d06-a19d-6c939a20b65f",
   "metadata": {},
   "outputs": [
    {
     "data": {
      "text/plain": [
       "'ykciR'"
      ]
     },
     "execution_count": 2,
     "metadata": {},
     "output_type": "execute_result"
    }
   ],
   "source": [
    "# Create a function that inverts a string using our Stack class (above)\n",
    "\n",
    "def invert_str(mystring):\n",
    "    stack = Stack()  # instantiation\n",
    "    for char in mystring:\n",
    "        stack.push(char)\n",
    "    out = \"\"\n",
    "    while not stack.is_empty():\n",
    "        out += stack.pop()   # this is the same as out = out + stack.pop()\n",
    "    return out\n",
    "\n",
    "invert_str(\"Ricky\")"
   ]
  },
  {
   "cell_type": "code",
   "execution_count": 6,
   "id": "2be731ff-179f-488e-b0a0-f96d71fca850",
   "metadata": {},
   "outputs": [
    {
     "name": "stdout",
     "output_type": "stream",
     "text": [
      "something\n",
      "something\n",
      "something\n",
      "something\n"
     ]
    }
   ],
   "source": [
    "# small detour\n",
    "\n",
    "myemptystr = \"A\"\n",
    "count = 0\n",
    "\n",
    "# these two if statements are equivalent:\n",
    "if myemptystr:\n",
    "    print(\"something\")\n",
    "\n",
    "if myemptystr != None:\n",
    "    print(\"something\")\n",
    "\n",
    "# these two while statements are equivalent:\n",
    "while myemptystr:\n",
    "    print(\"something\")\n",
    "    myemptystr = \"\"\n",
    "\n",
    "myemptystr = \"A\"\n",
    "while myemptystr != \"\":\n",
    "    print(\"something\")\n",
    "    myemptystr = \"\"\n"
   ]
  },
  {
   "cell_type": "code",
   "execution_count": 7,
   "id": "8c3cc412-1db4-4711-b27b-4ff682a26ed5",
   "metadata": {},
   "outputs": [
    {
     "name": "stdout",
     "output_type": "stream",
     "text": [
      "4456238360\n",
      "4456238328\n"
     ]
    }
   ],
   "source": [
    "# Pass by value examples:\n",
    "# Primary data types in Python always pass by value\n",
    "# Primary data types: int, float and bool\n",
    "\n",
    "x = 5\n",
    "y = x\n",
    "\n",
    "x += 1\n",
    "\n",
    "print(id(x))\n",
    "print(id(y))"
   ]
  },
  {
   "cell_type": "code",
   "execution_count": 8,
   "id": "c8b669f6-d22d-4061-8d06-4236f50794a1",
   "metadata": {},
   "outputs": [
    {
     "name": "stdout",
     "output_type": "stream",
     "text": [
      "4494856512\n",
      "4494856512\n"
     ]
    }
   ],
   "source": [
    "# Pass by reference:\n",
    "# Data types beyond primarty (or data structures) all pass by reference\n",
    "\n",
    "x = [1, 2, 3, 4, 5]\n",
    "y = x\n",
    "\n",
    "x.append(6)\n",
    "\n",
    "print(id(x))\n",
    "print(id(y))"
   ]
  },
  {
   "cell_type": "code",
   "execution_count": null,
   "id": "371dbe89-7e51-494f-8e61-6c5ecbe4757f",
   "metadata": {},
   "outputs": [],
   "source": [
    "# From scratch implementation of Stack (no built-ins)\n",
    "\n",
    "class StackII:\n",
    "    class __Node:\n",
    "        def __init__(self, data):\n",
    "            self.data = data\n",
    "            self.below = None\n",
    "\n",
    "    def __init__(self):\n",
    "        self.top = None\n",
    "\n",
    "    def push(self, value):\n",
    "        new_node = self.__Node(value)\n",
    "        if not self.top:   # if self.top == None\n",
    "            self.top = new_node\n",
    "        else:\n",
    "            old_top = self.top\n",
    "            self.top = new_node\n",
    "            new_node.below = old.top\n",
    "\n",
    "    def pop(self):\n",
    "        if not self.top:\n",
    "            raise IndexError(\"Stack is empty\")\n",
    "        else:\n",
    "            datum = self.top.data\n",
    "            node_below = self.top.below\n",
    "            self.top = node.below\n",
    "            return datum\n",
    "\n",
    "# Mini Challenge\n",
    "    def size(self):\n",
    "        # this should return the number of nodes in our stack\n",
    "        count = 0\n",
    "        current_node = self.top\n",
    "        while current_node:\n",
    "            count += 1\n",
    "            current_node = current_node.below\n",
    "        return count\n",
    "\n",
    "    def peek(self):\n",
    "        # this should return the data element stored in the topmost node, without removing it\n",
    "        if self.top is None:\n",
    "            raise IndexError(\"Stack is empty\")\n",
    "        return self.top.data\n",
    "\n",
    "    def is_empty(self):\n",
    "        # this should return True if the stack is empty, Flase otherwise\n",
    "        return self.top is None"
   ]
  }
 ],
 "metadata": {
  "kernelspec": {
   "display_name": "Python 3 (ipykernel)",
   "language": "python",
   "name": "python3"
  },
  "language_info": {
   "codemirror_mode": {
    "name": "ipython",
    "version": 3
   },
   "file_extension": ".py",
   "mimetype": "text/x-python",
   "name": "python",
   "nbconvert_exporter": "python",
   "pygments_lexer": "ipython3",
   "version": "3.11.4"
  }
 },
 "nbformat": 4,
 "nbformat_minor": 5
}
