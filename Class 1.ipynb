{
 "cells": [
  {
   "cell_type": "code",
   "execution_count": 1,
   "id": "0651dcac-dfa6-4b43-8ad7-27eab5a571d1",
   "metadata": {},
   "outputs": [
    {
     "name": "stdout",
     "output_type": "stream",
     "text": [
      "h\n",
      "e\n",
      "l\n",
      "l\n",
      "o\n",
      ",\n",
      " \n",
      "w\n",
      "o\n",
      "r\n",
      "l\n",
      "d\n",
      "!\n"
     ]
    }
   ],
   "source": [
    "for char in \"hello, world!\":\n",
    "    print(char)\n",
    "    "
   ]
  },
  {
   "cell_type": "markdown",
   "id": "c745cabb-4d3b-4e35-a33f-4fa4de5348af",
   "metadata": {},
   "source": [
    "# Problem 1: Anagram Check\n",
    "\n",
    "### Create a function that takes two strings as parameters and determines if these are anagrams of each other. Return True if they are, False otherwise\n",
    "\n",
    "## Criteria\n",
    "Two strings are anagrams of each other if *all* the criteria below are met:\n",
    "1. They must have the same number of letters\n",
    "2. They must use the same letters, the same amount of times\n",
    "\n",
    "   ```\n",
    "   Examples:\n",
    "   heart and earth\n",
    "   cars and scar\n",
    "   rats and star"
   ]
  },
  {
   "cell_type": "code",
   "execution_count": 2,
   "id": "a33ea45f-af3a-4203-a184-8356511b7b3c",
   "metadata": {},
   "outputs": [
    {
     "name": "stdout",
     "output_type": "stream",
     "text": [
      "True\n"
     ]
    }
   ],
   "source": [
    "# define anagram_check with parameters: str1 and str2:\n",
    "#   str1 = str1 in lowercase without spaces\n",
    "#   str2 = str2 in lowercase without spaces\n",
    "#   if the length of str1 is not equal to the length of str2\n",
    "#        return False\n",
    "#   beyond this point it is safe to assume that the length of str1 is equal to the length of str2\n",
    "#   dict1 = new dict\n",
    "#   dict2 = new dict\n",
    "#   for each number in the range 0 to the length of str1:\n",
    "#        if the letter at position \"number\" of str1 is in dict1:\n",
    "#            add 1 to the value associated with letter in dict1\n",
    "#        otherwise:\n",
    "#            create a new key in dict1 with \"letter\"\n",
    "#            give that key a value of 1 (because we've seen it once)\n",
    "\n",
    "#   for each number in the range 0 to the length of str2:\n",
    "#        if the letter at position \"number\" of str2 is in dict2:\n",
    "#            add 1 to the value associated with letter in dict2\n",
    "#        otherwise:\n",
    "#            create a new key in dict1 with \"letter\"\n",
    "#            give that key a value of 1 (because we've seen it once)\n",
    "#   if dict1 is equal to dict2:\n",
    "#       return True\n",
    "#    otherwise:\n",
    "#       return False\n",
    "\n",
    "def anagram_check(str1, str2):\n",
    "    str1 = str1.replace(\" \",\"\").lower()\n",
    "    str2 = str2.replace(\" \",\"\").lower()\n",
    "    if len(str1) != len(str2):\n",
    "        return False\n",
    "\n",
    "    seen_chars_str1 = dict()\n",
    "    seen_chars_str2 = dict()\n",
    "\n",
    "\n",
    "    for index in range(len(str1)):\n",
    "        letter = str1[index]\n",
    "        if letter in seen_chars_str1.keys():\n",
    "          seen_chars_str1[letter] += 1\n",
    "        else:\n",
    "          seen_chars_str1 [letter] = 1\n",
    "\n",
    "    for index in range(len(str2)):\n",
    "        letter = str2[index]\n",
    "        if letter in seen_chars_str2.keys():\n",
    "          seen_chars_str2[letter] += 1\n",
    "        else:\n",
    "          seen_chars_str2 [letter] = 1\n",
    "\n",
    "    if seen_chars_str1 == seen_chars_str2:\n",
    "        return True\n",
    "    else:\n",
    "        return False\n",
    "\n",
    "str1 = \"earth\"\n",
    "str2 = \"heart\"\n",
    "result = anagram_check(str1, str2)\n",
    "print(result)"
   ]
  },
  {
   "cell_type": "code",
   "execution_count": null,
   "id": "92cce3fa-973d-44ee-8b3e-003e0e76fc87",
   "metadata": {},
   "outputs": [],
   "source": []
  }
 ],
 "metadata": {
  "kernelspec": {
   "display_name": "Python 3 (ipykernel)",
   "language": "python",
   "name": "python3"
  },
  "language_info": {
   "codemirror_mode": {
    "name": "ipython",
    "version": 3
   },
   "file_extension": ".py",
   "mimetype": "text/x-python",
   "name": "python",
   "nbconvert_exporter": "python",
   "pygments_lexer": "ipython3",
   "version": "3.11.4"
  }
 },
 "nbformat": 4,
 "nbformat_minor": 5
}
