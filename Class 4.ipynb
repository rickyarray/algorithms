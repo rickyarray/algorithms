{
 "cells": [
  {
   "cell_type": "code",
   "execution_count": 2,
   "id": "2f801549-fe4e-4303-ac2b-a8342ddb3e3c",
   "metadata": {},
   "outputs": [],
   "source": [
    "# Simplified implementation of a Doubly Linked List using built-ins\n",
    "\n",
    "class DoublyLinkedList:\n",
    "    class __Node:\n",
    "        def __init__(self,data):\n",
    "            self.data = data\n",
    "            self.next = None\n",
    "            self.prev = None\n",
    "\n",
    "    def __init__(self):\n",
    "        self.head = None\n",
    "\n",
    "    def append(self, value):\n",
    "        new_node = self.__Node(value)\n",
    "        if not head:\n",
    "            self.head = new_node\n",
    "        else:\n",
    "            current = self.head\n",
    "            while current.next:\n",
    "                current = current.next\n",
    "                current.next = new_node\n",
    "                new_node.prev = current\n",
    "\n",
    "    def __str__(self):\n",
    "        # This should print our DoublyLinkedList class exactly how python prints built-in lists\n",
    "        def __str__(self):\n",
    "            out = \"[\"\n",
    "        current = self.head\n",
    "        if current:\n",
    "            out += \"%s\" % current.data\n",
    "            current = current.next\n",
    "            while current:\n",
    "                out += \", %s\" % current.data\n",
    "                current = current.next\n",
    "        out += \"]\"\n",
    "        return out\n",
    "\n",
    "    def insert(self, index, value):\n",
    "        # This should insert a new node with a \"value\" BEFORE the target index\n",
    "        new_node = self.__Node(value)\n",
    "        if not self.head:\n",
    "            self.head = new_node\n",
    "        else:\n",
    "            if index == 0:\n",
    "                old_head = self.head\n",
    "                self.head = new_node\n",
    "                new_node.next = old_head\n",
    "                old_head.prev = new_node\n",
    "            else:\n",
    "                prev = None\n",
    "                current = self.head\n",
    "                count = 0\n",
    "                while count != index and current.next:\n",
    "                    prev = current\n",
    "                    current = current.next\n",
    "                    count += 1\n",
    "\n",
    "\n",
    "\n",
    "    def remove(self, value):\n",
    "        # Removes the fist instance of \"value\" from the list\n",
    "        # Raises ValueError if the value is not present\n",
    "        pass\n",
    "            "
   ]
  },
  {
   "cell_type": "markdown",
   "id": "38ad6461-cbdd-4ac6-8737-8ac1eede4373",
   "metadata": {},
   "source": [
    "Recursive Functions"
   ]
  },
  {
   "cell_type": "code",
   "execution_count": 4,
   "id": "261479b2-cb84-4e1e-afbb-e941859cf13c",
   "metadata": {},
   "outputs": [
    {
     "data": {
      "text/plain": [
       "120"
      ]
     },
     "execution_count": 4,
     "metadata": {},
     "output_type": "execute_result"
    }
   ],
   "source": [
    "\n",
    "# Factorials i.e 5! = 5x4x3x2x1\n",
    "\n",
    "# 0! = 1 \n",
    "\n",
    "# 5! = 5x4!\n",
    "\n",
    "# 4! = 4x3!\n",
    "\n",
    "# A recursive function is one that calls itself at least once\n",
    "\n",
    "# Another important premise is that there must be (at a minimum):\n",
    "# 1. A base or exist condition\n",
    "# 2. A recursive case or condition wehre the function calls itself\n",
    "\n",
    "# Factorial funct as a recursive\n",
    "\n",
    "def fact(n):\n",
    "    if n == 0:\n",
    "        return 1\n",
    "    return n*fact (n-1)\n",
    "\n",
    "fact(5)"
   ]
  },
  {
   "cell_type": "code",
   "execution_count": 7,
   "id": "f4ba4c02-311b-4eb6-bf86-5e6cb821a64c",
   "metadata": {},
   "outputs": [
    {
     "data": {
      "text/plain": [
       "12586269025"
      ]
     },
     "execution_count": 7,
     "metadata": {},
     "output_type": "execute_result"
    }
   ],
   "source": [
    "# Fibonacci\n",
    "\n",
    "# F0 = 0\n",
    "# F1 =1\n",
    "\n",
    "# Fn = Fn-1 + Fn-2\n",
    "\n",
    "# what is fibonacci of 20\n",
    "\n",
    "\n",
    "# Simple implementation of HashTable using built-ins (lru_cache)\n",
    "from functools import lru_cache\n",
    "\n",
    "@lru_cache\n",
    "def fib(n):\n",
    "    if n < 2:\n",
    "        return n\n",
    "    return fib(n-1) + fib(n-2)\n",
    "\n",
    "fib(50)"
   ]
  },
  {
   "cell_type": "code",
   "execution_count": 9,
   "id": "dbf0ee58-3044-4ecf-811f-ad0d7cb52f7b",
   "metadata": {},
   "outputs": [
    {
     "data": {
      "text/plain": [
       "21"
      ]
     },
     "execution_count": 9,
     "metadata": {},
     "output_type": "execute_result"
    }
   ],
   "source": [
    "\n",
    "# Use a built-in dictionary to improve the performance of the fibonacci funct\n",
    "\n",
    "mynewdictionary = {}\n",
    "\n",
    "# Recieve a parameter N\n",
    "# IF the parameter N matches a key in your dictionary, return the value associated with that key\n",
    "# IF NOT call the fibonacci function on N, and store the result before returning it to the caller\n",
    "\n",
    "def fib2(n):\n",
    "    if n in mynewdictionary.keys():\n",
    "        return mynewdictionary[n]\n",
    "\n",
    "    if n < 2:\n",
    "        return n\n",
    "    mynewdictionary[n] = fib2(n-1) + fib2(n-2)\n",
    "    return mynewdictionary[n]\n",
    "\n",
    "fib2(8)\n",
    "\n",
    "\n",
    "\n"
   ]
  },
  {
   "cell_type": "markdown",
   "id": "033816df-846b-43bc-a0e7-891eaf29a588",
   "metadata": {},
   "source": [
    "\n",
    "# Balanced Parentheses check\n",
    "\n",
    "## Given a string as a parameter to your function, consisting solely of the characters in the set {\"(,\")\",\"{\",\"}\",\"[\",\"]\"}, determine if a string is \"balanced\".\n",
    "\n",
    "## Criteria\n",
    "A string is balanced when parentheses (or brackets) are closed in the same order they were opened.\n",
    "\n",
    "```\n",
    "Examples:\n",
    "Balanced:\n",
    "((({{{}}})))\n",
    "(((()()())))\n",
    "()()()[[[[]]]]\n",
    "```\n",
    "\n",
    "Your function should return True if the string is balanced, False otherwise"
   ]
  },
  {
   "cell_type": "code",
   "execution_count": null,
   "id": "9937d7ee-7fce-4335-a2b6-6c06a3cb987a",
   "metadata": {},
   "outputs": [],
   "source": []
  }
 ],
 "metadata": {
  "kernelspec": {
   "display_name": "Python 3 (ipykernel)",
   "language": "python",
   "name": "python3"
  },
  "language_info": {
   "codemirror_mode": {
    "name": "ipython",
    "version": 3
   },
   "file_extension": ".py",
   "mimetype": "text/x-python",
   "name": "python",
   "nbconvert_exporter": "python",
   "pygments_lexer": "ipython3",
   "version": "3.11.4"
  }
 },
 "nbformat": 4,
 "nbformat_minor": 5
}
